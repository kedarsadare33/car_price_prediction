{
 "cells": [
  {
   "cell_type": "code",
   "execution_count": 1,
   "id": "4b93377a",
   "metadata": {},
   "outputs": [],
   "source": [
    "# Import necessary libraries\n",
    "import pandas as pd\n",
    "import numpy as np\n",
    "from sklearn.model_selection import train_test_split, cross_val_score\n",
    "from sklearn.preprocessing import StandardScaler, OneHotEncoder\n",
    "from sklearn.compose import ColumnTransformer\n",
    "from sklearn.pipeline import Pipeline\n",
    "from sklearn.ensemble import RandomForestRegressor\n",
    "from sklearn.linear_model import LinearRegression\n",
    "from sklearn.tree import DecisionTreeRegressor\n",
    "from sklearn.metrics import mean_squared_error\n",
    "from sklearn.svm import SVR\n",
    "import pickle"
   ]
  },
  {
   "cell_type": "code",
   "execution_count": 2,
   "id": "3a145a16",
   "metadata": {},
   "outputs": [],
   "source": [
    "# Function to train and evaluate multiple models\n",
    "def get_best_model(X, y):\n",
    "    # Define the models to evaluate\n",
    "    models = {\n",
    "        'Linear Regression': LinearRegression(),\n",
    "        'Decision Tree': DecisionTreeRegressor(random_state=42),\n",
    "        'Random Forest': RandomForestRegressor(random_state=42),\n",
    "        'Support Vector Regressor': SVR()\n",
    "    }\n",
    "\n",
    "    # Preprocessing for numerical and categorical data\n",
    "    numerical_cols = ['Year', 'Kilometers_Driven', 'Engine_CC', 'Power', 'Seats', 'Mileage_KmL']\n",
    "    categorical_cols = ['Fuel_Type', 'Transmission', 'Owner_Type']\n",
    "    \n",
    "    numerical_transformer = StandardScaler()\n",
    "    categorical_transformer = OneHotEncoder()\n",
    "\n",
    "    preprocessor = ColumnTransformer(\n",
    "        transformers=[\n",
    "            ('num', numerical_transformer, numerical_cols),\n",
    "            ('cat', categorical_transformer, categorical_cols)\n",
    "        ])\n",
    "\n",
    "    best_model = None\n",
    "    best_score = float('inf')\n",
    "\n",
    "    for name, model in models.items():\n",
    "        # Create a pipeline with preprocessor and model\n",
    "        pipeline = Pipeline(steps=[('preprocessor', preprocessor),\n",
    "                                   ('regressor', model)])\n",
    "        \n",
    "        # Evaluate model using cross-validation\n",
    "        scores = cross_val_score(pipeline, X, y, scoring='neg_root_mean_squared_error', cv=5)\n",
    "        rmse = -scores.mean()\n",
    "        \n",
    "        print(f'{name} RMSE: {rmse}')\n",
    "        \n",
    "        # Update the best model if current model is better\n",
    "        if rmse < best_score:\n",
    "            best_score = rmse\n",
    "            best_model = pipeline\n",
    "\n",
    "    print(f'Best model: {best_model.steps[-1][0]} with RMSE: {best_score}')\n",
    "    \n",
    "    # Fit the best model on the full training data\n",
    "    best_model.fit(X, y)\n",
    "    \n",
    "    return best_model"
   ]
  },
  {
   "cell_type": "code",
   "execution_count": 3,
   "id": "be8cf0b3",
   "metadata": {},
   "outputs": [],
   "source": [
    "# Load the dataset\n",
    "df = pd.read_csv(\"indian-auto-mpg.csv\")"
   ]
  },
  {
   "cell_type": "code",
   "execution_count": 4,
   "id": "b974adc8",
   "metadata": {},
   "outputs": [
    {
     "name": "stdout",
     "output_type": "stream",
     "text": [
      "Name                 0\n",
      "Manufacturer         0\n",
      "Location             0\n",
      "Year                 0\n",
      "Kilometers_Driven    0\n",
      "Fuel_Type            0\n",
      "Transmission         0\n",
      "Owner_Type           0\n",
      "Engine_CC            0\n",
      "Power                0\n",
      "Seats                0\n",
      "Mileage_KmL          0\n",
      "Price                0\n",
      "dtype: int64\n",
      "-----------------------------\n",
      "Total Null Values :  0\n"
     ]
    }
   ],
   "source": [
    "# Checking for null values\n",
    "\n",
    "print(df.isna().sum())\n",
    "print(\"-----------------------------\")\n",
    "print(\"Total Null Values : \", df.isna().sum().sum())"
   ]
  },
  {
   "cell_type": "code",
   "execution_count": 5,
   "id": "51041d38",
   "metadata": {},
   "outputs": [],
   "source": [
    "# Data preprocessing\n",
    "df.dropna(inplace=True)  # Dropping rows with missing values for simplicity"
   ]
  },
  {
   "cell_type": "code",
   "execution_count": 6,
   "id": "f8510319",
   "metadata": {},
   "outputs": [],
   "source": [
    "# Split data into features and target variable\n",
    "X = df.drop(columns=['Price', 'Name', 'Manufacturer', 'Location'])  # Features\n",
    "y = df['Price']  # Target variable"
   ]
  },
  {
   "cell_type": "code",
   "execution_count": 7,
   "id": "78268c03",
   "metadata": {},
   "outputs": [],
   "source": [
    "# Split the data into training and testing sets\n",
    "X_train, X_test, y_train, y_test = train_test_split(X, y, test_size=0.2, random_state=42)"
   ]
  },
  {
   "cell_type": "code",
   "execution_count": 8,
   "id": "bd3b4cdd",
   "metadata": {},
   "outputs": [
    {
     "name": "stdout",
     "output_type": "stream",
     "text": [
      "Linear Regression RMSE: 5.855341473515645\n",
      "Decision Tree RMSE: 4.607668710729338\n",
      "Random Forest RMSE: 3.4439396134002336\n",
      "Support Vector Regressor RMSE: 5.30144447462154\n",
      "Best model: regressor with RMSE: 3.4439396134002336\n"
     ]
    }
   ],
   "source": [
    "# Get the best model\n",
    "best_model = get_best_model(X_train, y_train)"
   ]
  },
  {
   "cell_type": "code",
   "execution_count": 9,
   "id": "ac074568",
   "metadata": {},
   "outputs": [],
   "source": [
    "# Evaluate the best model on the test set\n",
    "test_preds = best_model.predict(X_test)\n",
    "test_rmse = np.sqrt(mean_squared_error(y_test, test_preds))"
   ]
  },
  {
   "cell_type": "code",
   "execution_count": 10,
   "id": "57f6eaa6",
   "metadata": {},
   "outputs": [
    {
     "name": "stdout",
     "output_type": "stream",
     "text": [
      "Test RMSE of the best model: 4.870214467311351\n"
     ]
    }
   ],
   "source": [
    "print(f'Test RMSE of the best model: {test_rmse}')"
   ]
  },
  {
   "cell_type": "code",
   "execution_count": 11,
   "id": "356a78cb",
   "metadata": {},
   "outputs": [
    {
     "name": "stdout",
     "output_type": "stream",
     "text": [
      "Predicted Price: 5.3822\n"
     ]
    }
   ],
   "source": [
    "# Predict on new data\n",
    "new_data = pd.DataFrame({\n",
    "    'Year': [2015],\n",
    "    'Kilometers_Driven': [50000],\n",
    "    'Fuel_Type': ['Diesel'],\n",
    "    'Transmission': ['Manual'],\n",
    "    'Owner_Type': ['First'],\n",
    "    'Engine_CC': [1500],\n",
    "    'Power': [100],\n",
    "    'Seats': [5],\n",
    "    'Mileage_KmL': [18.0]\n",
    "})\n",
    "\n",
    "predicted_price = best_model.predict(new_data)\n",
    "print(f'Predicted Price: {predicted_price[0]}')"
   ]
  },
  {
   "cell_type": "code",
   "execution_count": 12,
   "id": "5f6b60a1",
   "metadata": {},
   "outputs": [],
   "source": [
    "# saving best model\n",
    "\n",
    "filename = 'best_model.sav'\n",
    "pickle.dump(best_model, open(filename,'wb'))"
   ]
  },
  {
   "cell_type": "code",
   "execution_count": null,
   "id": "203ecc2f",
   "metadata": {},
   "outputs": [],
   "source": []
  }
 ],
 "metadata": {
  "kernelspec": {
   "display_name": "Python 3 (ipykernel)",
   "language": "python",
   "name": "python3"
  },
  "language_info": {
   "codemirror_mode": {
    "name": "ipython",
    "version": 3
   },
   "file_extension": ".py",
   "mimetype": "text/x-python",
   "name": "python",
   "nbconvert_exporter": "python",
   "pygments_lexer": "ipython3",
   "version": "3.9.12"
  }
 },
 "nbformat": 4,
 "nbformat_minor": 5
}
